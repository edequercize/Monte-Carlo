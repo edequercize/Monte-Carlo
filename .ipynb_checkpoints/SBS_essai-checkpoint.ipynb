{
 "cells": [
  {
   "cell_type": "code",
   "execution_count": null,
   "id": "3278e592-a9c8-4f67-97bc-6d78f6378b47",
   "metadata": {},
   "outputs": [],
   "source": [
    "import numpy as np\n",
    "\n",
    "\n",
    "def halft_distribution(p):\n",
    "    # Génération de p/2 valeurs aléatoires à partir de la distribution normale standard\n",
    "    normal_values = np.random.randn(p // 2)\n",
    "    \n",
    "    # Concaténation des valeurs positives et négatives pour obtenir des valeurs symétriques\n",
    "    halft_values = np.concatenate((normal_values, -normal_values))\n",
    "    \n",
    "    return halft_values\n",
    "\n",
    "\n",
    "# Exemple avec p = 3\n",
    "p = 3\n",
    "halft_samples = halft_distribution(p)\n",
    "print(\"Valeurs générées à partir de la loi Halft :\", halft_samples)   \n",
    "# pas sûr que ca soit bon du tout cette partie mais dans l'idée c'est ca\n",
    "\n",
    "samples = {'b1' = [], 'b2' = [], 'b3' = []}    # mettre dans les [] des valeurs générés aléatoirement au dessus.\n",
    "num_samples = 1000   # on prend 100 arbitrairement - c'est le nombre de bétha qu'on veut calculer\n",
    "\n",
    "for _ in range(num_samples):\n",
    "    curr_b2 = samples['b2'][-1]\n",
    "    curr_b3 = samples['b3'][-1]\n",
    "    new_b1 = np.random.normal()      # loi de b1 sachant curr_b2 et curr_b3 à déterminer\n",
    "    new_b2 = np.random.normal()      # loi de b2 sachant new_b1 et curr_b3 à déterminer\n",
    "    new_b3 = np.random.normal()      # loi de b3 sachant new_b1 et new_b2 à déterminer\n",
    "    samples['b1'].append(new_b1)\n",
    "    samples['b2'].append(new_b2)\n",
    "    samples['b3'].append(new_b3)\n",
    "\n"
   ]
  }
 ],
 "metadata": {
  "kernelspec": {
   "display_name": "Python 3 (ipykernel)",
   "language": "python",
   "name": "python3"
  },
  "language_info": {
   "codemirror_mode": {
    "name": "ipython",
    "version": 3
   },
   "file_extension": ".py",
   "mimetype": "text/x-python",
   "name": "python",
   "nbconvert_exporter": "python",
   "pygments_lexer": "ipython3",
   "version": "3.11.6"
  }
 },
 "nbformat": 4,
 "nbformat_minor": 5
}
