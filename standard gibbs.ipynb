{
 "cells": [
  {
   "cell_type": "code",
   "execution_count": 8,
   "metadata": {},
   "outputs": [
    {
     "ename": "TypeError",
     "evalue": "'int' object is not subscriptable",
     "output_type": "error",
     "traceback": [
      "\u001b[0;31m---------------------------------------------------------------------------\u001b[0m",
      "\u001b[0;31mTypeError\u001b[0m                                 Traceback (most recent call last)",
      "\u001b[1;32m/home/onyxia/work/Monte-Carlo/standard gibbs.ipynb Cell 1\u001b[0m line \u001b[0;36m4\n\u001b[1;32m     <a href='vscode-notebook-cell://user-garancelat-703356-0.user.lab.sspcloud.fr/home/onyxia/work/Monte-Carlo/standard%20gibbs.ipynb#W0sdnNjb2RlLXJlbW90ZQ%3D%3D?line=41'>42</a>\u001b[0m sigma_sq\u001b[39m=\u001b[39m\u001b[39m1\u001b[39m\n\u001b[1;32m     <a href='vscode-notebook-cell://user-garancelat-703356-0.user.lab.sspcloud.fr/home/onyxia/work/Monte-Carlo/standard%20gibbs.ipynb#W0sdnNjb2RlLXJlbW90ZQ%3D%3D?line=42'>43</a>\u001b[0m num_iterations\u001b[39m=\u001b[39m\u001b[39m1000\u001b[39m\n\u001b[0;32m---> <a href='vscode-notebook-cell://user-garancelat-703356-0.user.lab.sspcloud.fr/home/onyxia/work/Monte-Carlo/standard%20gibbs.ipynb#W0sdnNjb2RlLXJlbW90ZQ%3D%3D?line=44'>45</a>\u001b[0m \u001b[39mprint\u001b[39m((gibbs_sampling(X, y, beta_init, eta, sigma_sq, num_iterations)))\n\u001b[1;32m     <a href='vscode-notebook-cell://user-garancelat-703356-0.user.lab.sspcloud.fr/home/onyxia/work/Monte-Carlo/standard%20gibbs.ipynb#W0sdnNjb2RlLXJlbW90ZQ%3D%3D?line=46'>47</a>\u001b[0m \u001b[39mprint\u001b[39m(\u001b[39m\"\u001b[39m\u001b[39mCoordonnées beta mises à jour:\u001b[39m\u001b[39m\"\u001b[39m, beta_final)\n",
      "\u001b[1;32m/home/onyxia/work/Monte-Carlo/standard gibbs.ipynb Cell 1\u001b[0m line \u001b[0;36m2\n\u001b[1;32m     <a href='vscode-notebook-cell://user-garancelat-703356-0.user.lab.sspcloud.fr/home/onyxia/work/Monte-Carlo/standard%20gibbs.ipynb#W0sdnNjb2RlLXJlbW90ZQ%3D%3D?line=22'>23</a>\u001b[0m \u001b[39m# Boucle sur chaque coordonnée beta_j\u001b[39;00m\n\u001b[1;32m     <a href='vscode-notebook-cell://user-garancelat-703356-0.user.lab.sspcloud.fr/home/onyxia/work/Monte-Carlo/standard%20gibbs.ipynb#W0sdnNjb2RlLXJlbW90ZQ%3D%3D?line=23'>24</a>\u001b[0m \u001b[39mfor\u001b[39;00m j \u001b[39min\u001b[39;00m \u001b[39mrange\u001b[39m(num_features):\n\u001b[0;32m---> <a href='vscode-notebook-cell://user-garancelat-703356-0.user.lab.sspcloud.fr/home/onyxia/work/Monte-Carlo/standard%20gibbs.ipynb#W0sdnNjb2RlLXJlbW90ZQ%3D%3D?line=24'>25</a>\u001b[0m     mu_j \u001b[39m=\u001b[39m compute_mu_j(beta_new, X, y, eta[j], sigma_sq, j)\n\u001b[1;32m     <a href='vscode-notebook-cell://user-garancelat-703356-0.user.lab.sspcloud.fr/home/onyxia/work/Monte-Carlo/standard%20gibbs.ipynb#W0sdnNjb2RlLXJlbW90ZQ%3D%3D?line=25'>26</a>\u001b[0m     sigma_j_sq \u001b[39m=\u001b[39m compute_sigma_j_sq(X, eta[j], sigma_sq, j)\n\u001b[1;32m     <a href='vscode-notebook-cell://user-garancelat-703356-0.user.lab.sspcloud.fr/home/onyxia/work/Monte-Carlo/standard%20gibbs.ipynb#W0sdnNjb2RlLXJlbW90ZQ%3D%3D?line=26'>27</a>\u001b[0m     beta_new[j] \u001b[39m=\u001b[39m np\u001b[39m.\u001b[39mrandom\u001b[39m.\u001b[39mnormal(mu_j, np\u001b[39m.\u001b[39msqrt(sigma_j_sq))\n",
      "\u001b[0;31mTypeError\u001b[0m: 'int' object is not subscriptable"
     ]
    }
   ],
   "source": [
    "import numpy as np\n",
    "\n",
    "# Fonction pour calculer mu_j\n",
    "def compute_mu_j(beta, X, y, eta_j, sigma_sq, j):\n",
    "    n = X.shape[0]\n",
    "    mu_j = np.sum(X[:, j] * (y - np.dot(X, beta) + X[:, j] * beta[j])) / (X[:, j].dot(X[:, j]) / eta_j + 1 / sigma_sq)\n",
    "    return mu_j\n",
    "\n",
    "# Fonction pour calculer sigma_j^2\n",
    "def compute_sigma_j_sq(X, eta_j, sigma_sq, j):\n",
    "    sigma_j_sq = 1 / (X[:, j].dot(X[:, j]) / eta_j + 1 / sigma_sq)\n",
    "    return sigma_j_sq\n",
    "\n",
    "# Fonction pour l'échantillonnage de Gibbs\n",
    "def gibbs_sampling(X, y, beta_init, eta, sigma_sq, num_iterations):\n",
    "    num_features = X.shape[1]\n",
    "    beta_current = beta_init\n",
    "    \n",
    "    # Boucle sur le nombre d'itérations\n",
    "    for t in range(num_iterations):\n",
    "        beta_new = beta_current\n",
    "        \n",
    "        # Boucle sur chaque coordonnée beta_j\n",
    "        for j in range(num_features):\n",
    "            mu_j = compute_mu_j(beta_new, X, y, eta[j], sigma_sq, j)\n",
    "            sigma_j_sq = compute_sigma_j_sq(X, eta[j], sigma_sq, j)\n",
    "            beta_new[j] = np.random.normal(mu_j, np.sqrt(sigma_j_sq))\n",
    "        \n",
    "        # Mettre à jour les coordonnées beta pour l'itération suivante\n",
    "        beta_current = beta_new\n",
    "    \n",
    "    return beta_current\n",
    "\n",
    "#Example \n",
    "n = 100\n",
    "p = 10\n",
    "X = np.random.normal(0, 1, (n, p))\n",
    "y = np.random.normal(0, 1, n)\n",
    "X_transpose = X.T\n",
    "beta_init= 1\n",
    "eta = 1\n",
    "sigma_sq=1\n",
    "num_iterations=1000\n",
    "\n",
    "print((gibbs_sampling(X, y, beta_init, eta, sigma_sq, num_iterations)))\n",
    "\n",
    "print(\"Coordonnées beta mises à jour:\", beta_final)\n"
   ]
  }
 ],
 "metadata": {
  "kernelspec": {
   "display_name": "base",
   "language": "python",
   "name": "python3"
  },
  "language_info": {
   "codemirror_mode": {
    "name": "ipython",
    "version": 3
   },
   "file_extension": ".py",
   "mimetype": "text/x-python",
   "name": "python",
   "nbconvert_exporter": "python",
   "pygments_lexer": "ipython3",
   "version": "3.11.6"
  }
 },
 "nbformat": 4,
 "nbformat_minor": 2
}
