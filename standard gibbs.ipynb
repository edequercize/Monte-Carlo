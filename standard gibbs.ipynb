{
 "cells": [
  {
   "cell_type": "code",
   "execution_count": 29,
   "metadata": {},
   "outputs": [],
   "source": [
    "#Example \n",
    "n = 2\n",
    "p = 2\n",
    "X = np.random.normal(0, 1, (n, p))\n",
    "y = np.random.normal(0, 1, n)\n",
    "X_transpose = X.T\n",
    "beta= [1,2]\n",
    "beta_init= [1,2]\n",
    "eta_j=1\n",
    "j=1\n",
    "eta = [1,2]\n",
    "sigma_sq=1\n",
    "num_iterations=1000"
   ]
  },
  {
   "cell_type": "code",
   "execution_count": 14,
   "metadata": {},
   "outputs": [],
   "source": [
    "import numpy as np"
   ]
  },
  {
   "cell_type": "code",
   "execution_count": 30,
   "metadata": {},
   "outputs": [
    {
     "name": "stdout",
     "output_type": "stream",
     "text": [
      "-0.4341533162039672\n"
     ]
    }
   ],
   "source": [
    "# Fonction pour calculer mu_j\n",
    "def compute_mu_j(beta, X, y, eta_j, sigma_sq, j):\n",
    "    n = X.shape[0]\n",
    "    mu_j = np.sum(X[:, j] * (y - np.dot(X, beta) + X[:, j] * beta[j])) / (X[:, j].dot(X[:, j]) / eta_j + 1 / sigma_sq)\n",
    "    return mu_j\n",
    "\n",
    "print(compute_mu_j(beta, X, y, eta_j, sigma_sq, j))"
   ]
  },
  {
   "cell_type": "code",
   "execution_count": 31,
   "metadata": {},
   "outputs": [
    {
     "name": "stdout",
     "output_type": "stream",
     "text": [
      "0.23757591630456587\n"
     ]
    }
   ],
   "source": [
    "# Fonction pour calculer sigma_j^2\n",
    "def compute_sigma_j_sq(X, eta_j, sigma_sq, j):\n",
    "    sigma_j_sq = 1 / (X[:, j].dot(X[:, j]) / eta_j + 1 / sigma_sq)\n",
    "    return sigma_j_sq\n",
    "\n",
    "print(compute_sigma_j_sq(X, eta_j, sigma_sq, j))"
   ]
  },
  {
   "cell_type": "code",
   "execution_count": 34,
   "metadata": {},
   "outputs": [
    {
     "ename": "TypeError",
     "evalue": "'int' object is not subscriptable",
     "output_type": "error",
     "traceback": [
      "\u001b[0;31m---------------------------------------------------------------------------\u001b[0m",
      "\u001b[0;31mTypeError\u001b[0m                                 Traceback (most recent call last)",
      "\u001b[1;32m/home/onyxia/work/Monte-Carlo/standard gibbs.ipynb Cell 5\u001b[0m line \u001b[0;36m2\n\u001b[1;32m     <a href='vscode-notebook-cell://user-garancelat-703356-0.user.lab.sspcloud.fr/home/onyxia/work/Monte-Carlo/standard%20gibbs.ipynb#W0sdnNjb2RlLXJlbW90ZQ%3D%3D?line=15'>16</a>\u001b[0m         beta_current \u001b[39m=\u001b[39m beta_new\n\u001b[1;32m     <a href='vscode-notebook-cell://user-garancelat-703356-0.user.lab.sspcloud.fr/home/onyxia/work/Monte-Carlo/standard%20gibbs.ipynb#W0sdnNjb2RlLXJlbW90ZQ%3D%3D?line=17'>18</a>\u001b[0m     \u001b[39mreturn\u001b[39;00m beta_current\n\u001b[0;32m---> <a href='vscode-notebook-cell://user-garancelat-703356-0.user.lab.sspcloud.fr/home/onyxia/work/Monte-Carlo/standard%20gibbs.ipynb#W0sdnNjb2RlLXJlbW90ZQ%3D%3D?line=19'>20</a>\u001b[0m \u001b[39mprint\u001b[39m(gibbs_sampling(X, y, beta_init, eta, sigma_sq, num_iterations))\n",
      "\u001b[1;32m/home/onyxia/work/Monte-Carlo/standard gibbs.ipynb Cell 5\u001b[0m line \u001b[0;36m1\n\u001b[1;32m      <a href='vscode-notebook-cell://user-garancelat-703356-0.user.lab.sspcloud.fr/home/onyxia/work/Monte-Carlo/standard%20gibbs.ipynb#W0sdnNjb2RlLXJlbW90ZQ%3D%3D?line=8'>9</a>\u001b[0m \u001b[39m# Boucle sur chaque coordonnée beta_j\u001b[39;00m\n\u001b[1;32m     <a href='vscode-notebook-cell://user-garancelat-703356-0.user.lab.sspcloud.fr/home/onyxia/work/Monte-Carlo/standard%20gibbs.ipynb#W0sdnNjb2RlLXJlbW90ZQ%3D%3D?line=9'>10</a>\u001b[0m \u001b[39mfor\u001b[39;00m j \u001b[39min\u001b[39;00m \u001b[39mrange\u001b[39m(num_features):\n\u001b[0;32m---> <a href='vscode-notebook-cell://user-garancelat-703356-0.user.lab.sspcloud.fr/home/onyxia/work/Monte-Carlo/standard%20gibbs.ipynb#W0sdnNjb2RlLXJlbW90ZQ%3D%3D?line=10'>11</a>\u001b[0m     mu_j \u001b[39m=\u001b[39m compute_mu_j(beta_new, X, y, eta[j], sigma_sq, j)\n\u001b[1;32m     <a href='vscode-notebook-cell://user-garancelat-703356-0.user.lab.sspcloud.fr/home/onyxia/work/Monte-Carlo/standard%20gibbs.ipynb#W0sdnNjb2RlLXJlbW90ZQ%3D%3D?line=11'>12</a>\u001b[0m     sigma_j_sq \u001b[39m=\u001b[39m compute_sigma_j_sq(X, eta[j], sigma_sq, j)\n\u001b[1;32m     <a href='vscode-notebook-cell://user-garancelat-703356-0.user.lab.sspcloud.fr/home/onyxia/work/Monte-Carlo/standard%20gibbs.ipynb#W0sdnNjb2RlLXJlbW90ZQ%3D%3D?line=12'>13</a>\u001b[0m     beta_new[j] \u001b[39m=\u001b[39m np\u001b[39m.\u001b[39mrandom\u001b[39m.\u001b[39mnormal(mu_j, np\u001b[39m.\u001b[39msqrt(sigma_j_sq))\n",
      "\u001b[0;31mTypeError\u001b[0m: 'int' object is not subscriptable"
     ]
    }
   ],
   "source": [
    "# Fonction pour l'échantillonnage de Gibbs\n",
    "def gibbs_sampling(X, y, beta_init, eta, sigma_sq, num_iterations):\n",
    "    num_features = X.shape[1]\n",
    "    \n",
    "    # Boucle sur le nombre d'itérations\n",
    "    for t in range(num_iterations):\n",
    "        beta_new = beta_init\n",
    "        \n",
    "        # Boucle sur chaque coordonnée beta_j\n",
    "        for j in range(num_features):\n",
    "            mu_j = compute_mu_j(beta_new, X, y, eta[j], sigma_sq, j)\n",
    "            sigma_j_sq = compute_sigma_j_sq(X, eta[j], sigma_sq, j)\n",
    "            beta_new[j] = np.random.normal(mu_j, np.sqrt(sigma_j_sq))\n",
    "        \n",
    "        # Mettre à jour les coordonnées beta pour l'itération suivante\n",
    "        beta_current = beta_new\n",
    "    \n",
    "    return beta_current\n",
    "\n",
    "print(gibbs_sampling(X, y, beta_init, eta, sigma_sq, num_iterations))"
   ]
  },
  {
   "cell_type": "code",
   "execution_count": null,
   "metadata": {},
   "outputs": [],
   "source": []
  }
 ],
 "metadata": {
  "kernelspec": {
   "display_name": "base",
   "language": "python",
   "name": "python3"
  },
  "language_info": {
   "codemirror_mode": {
    "name": "ipython",
    "version": 3
   },
   "file_extension": ".py",
   "mimetype": "text/x-python",
   "name": "python",
   "nbconvert_exporter": "python",
   "pygments_lexer": "ipython3",
   "version": "3.11.6"
  }
 },
 "nbformat": 4,
 "nbformat_minor": 2
}
