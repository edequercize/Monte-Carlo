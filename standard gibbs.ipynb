{
 "cells": [
  {
   "cell_type": "code",
   "execution_count": 36,
   "metadata": {},
   "outputs": [],
   "source": [
    "#Example \n",
    "n = 2\n",
    "p = 2\n",
    "X = np.random.normal(0, 1, (n, p))\n",
    "y = np.random.normal(0, 1, n)\n",
    "X_transpose = X.T\n",
    "beta= [1,2]\n",
    "beta_init= [1,2]\n",
    "\n",
    "j=1\n",
    "eta = [1,2]\n",
    "sigma_sq=1\n",
    "num_iterations=1000"
   ]
  },
  {
   "cell_type": "code",
   "execution_count": 38,
   "metadata": {},
   "outputs": [],
   "source": [
    "import numpy as np"
   ]
  },
  {
   "cell_type": "code",
   "execution_count": 39,
   "metadata": {},
   "outputs": [
    {
     "name": "stdout",
     "output_type": "stream",
     "text": [
      "0.24095773787349994\n"
     ]
    }
   ],
   "source": [
    "# Fonction pour calculer mu_j\n",
    "def compute_mu_j(beta, X, y, eta, sigma_sq, j):\n",
    "    eta_j=eta[j]\n",
    "    n = X.shape[0]\n",
    "    mu_j = np.sum(X[:, j] * (y - np.dot(X, beta) + X[:, j] * beta[j])) / (X[:, j].dot(X[:, j]) / eta_j + 1 / sigma_sq)\n",
    "    return mu_j\n",
    "\n",
    "print(compute_mu_j(beta, X, y, eta, sigma_sq, j))"
   ]
  },
  {
   "cell_type": "code",
   "execution_count": 41,
   "metadata": {},
   "outputs": [
    {
     "name": "stdout",
     "output_type": "stream",
     "text": [
      "0.9098780018530783\n"
     ]
    }
   ],
   "source": [
    "# Fonction pour calculer sigma_j^2\n",
    "def compute_sigma_j_sq(X, eta, sigma_sq, j):\n",
    "    eta_j=eta[j]\n",
    "    sigma_j_sq = 1 / (X[:, j].dot(X[:, j]) / eta_j + 1 / sigma_sq)\n",
    "    return sigma_j_sq\n",
    "\n",
    "print(compute_sigma_j_sq(X, eta, sigma_sq, j))"
   ]
  },
  {
   "cell_type": "code",
   "execution_count": 43,
   "metadata": {},
   "outputs": [
    {
     "name": "stdout",
     "output_type": "stream",
     "text": [
      "[-0.6455359715745331, -0.17403112008315796]\n"
     ]
    }
   ],
   "source": [
    "# Fonction pour l'échantillonnage de Gibbs\n",
    "def gibbs_sampling(X, y, beta_init, eta, sigma_sq, num_iterations):\n",
    "    num_features = X.shape[1]\n",
    "    \n",
    "    # Boucle sur le nombre d'itérations\n",
    "    for t in range(num_iterations):\n",
    "        beta_new = beta_init\n",
    "        \n",
    "        # Boucle sur chaque coordonnée beta_j\n",
    "        for j in range(num_features):\n",
    "            mu_j = compute_mu_j(beta_new, X, y, eta, sigma_sq, j)\n",
    "            sigma_j_sq = compute_sigma_j_sq(X, eta, sigma_sq, j)\n",
    "            beta_new[j] = np.random.normal(mu_j, np.sqrt(sigma_j_sq))\n",
    "        \n",
    "        # Mettre à jour les coordonnées beta pour l'itération suivante\n",
    "        beta_current = beta_new\n",
    "    \n",
    "    return beta_current\n",
    "\n",
    "print(gibbs_sampling(X, y, beta_init, eta, sigma_sq, num_iterations))"
   ]
  },
  {
   "cell_type": "code",
   "execution_count": null,
   "metadata": {},
   "outputs": [],
   "source": []
  }
 ],
 "metadata": {
  "kernelspec": {
   "display_name": "base",
   "language": "python",
   "name": "python3"
  },
  "language_info": {
   "codemirror_mode": {
    "name": "ipython",
    "version": 3
   },
   "file_extension": ".py",
   "mimetype": "text/x-python",
   "name": "python",
   "nbconvert_exporter": "python",
   "pygments_lexer": "ipython3",
   "version": "3.11.6"
  }
 },
 "nbformat": 4,
 "nbformat_minor": 2
}
