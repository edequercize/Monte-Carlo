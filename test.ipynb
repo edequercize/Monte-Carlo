{
 "cells": [
  {
   "cell_type": "code",
   "execution_count": 16,
   "metadata": {},
   "outputs": [],
   "source": [
    "import numpy as np\n",
    "import pandas as pd\n",
    "from scipy.stats import invgamma, multivariate_normal, t, gamma\n",
    "from numpy.linalg import cholesky\n",
    "\n",
    "np.random.seed(200)\n",
    "\n",
    "# Nombre d'observations\n",
    "nombre_observations = 50\n",
    "\n",
    "# Matrice de modèle simulée\n",
    "X = np.column_stack([np.ones(nombre_observations), np.random.normal(0, 1, nombre_observations),\n",
    "                     np.random.normal(5, 10, nombre_observations), np.random.normal(100, 10, nombre_observations)])\n",
    "\n",
    "# Vrais coefficients beta\n",
    "vrais_coefficients_beta = np.array([1000, 50, -50, 10])\n",
    "\n",
    "# Vraie valeur de phi\n",
    "vraie_phi = 10000\n",
    "matrice_identite = np.eye(nombre_observations)  # Matrice identité utilisée pour la matrice de covariance\n",
    "\n",
    "# Simuler la variable dépendante pour la régression\n",
    "y = multivariate_normal.rvs(mean=np.dot(X, vrais_coefficients_beta),\n",
    "                            cov=vraie_phi * matrice_identite)\n",
    "\n",
    "# Valeurs initiales\n",
    "n, p = X.shape\n",
    "beta_init = np.ones(p)\n",
    "eta = np.ones(p)\n",
    "zeta = 1\n",
    "sigma_sq = 3\n",
    "num_iterations = 1000\n",
    "nu = 2\n",
    "mu=2\n"
   ]
  },
  {
   "cell_type": "code",
   "execution_count": 6,
   "metadata": {},
   "outputs": [
    {
     "name": "stdout",
     "output_type": "stream",
     "text": [
      "39.641489529931626\n"
     ]
    }
   ],
   "source": [
    "# Fonction pour calculer mu_j\n",
    "def compute_mu_j(beta, X, y, eta, sigma_sq, j):\n",
    "    eta_j = eta[j]\n",
    "    n = X.shape[0]\n",
    "    mu_j = np.sum(X[:, j] * (y - np.dot(X, beta) + X[:, j] * beta[j])) / (X[:, j].dot(X[:, j]) / eta_j + 1 / sigma_sq)\n",
    "    return mu_j\n",
    "print(compute_mu_j(beta_init, X, y, eta, sigma_sq, j=2))"
   ]
  },
  {
   "cell_type": "code",
   "execution_count": 5,
   "metadata": {},
   "outputs": [
    {
     "name": "stdout",
     "output_type": "stream",
     "text": [
      "0.01652144915093684\n"
     ]
    }
   ],
   "source": [
    "def compute_sigma_j_sq(X, eta, sigma_sq, j):\n",
    "    sigma_j_sq = 1 / (np.sum(X[:, j]**2) / eta[j] + 1 / sigma_sq)\n",
    "    assert sigma_j_sq.shape == (), f\"sigma_j_sq should be a scalar, but its shape is {sigma_j_sq.shape}\"\n",
    "    return sigma_j_sq\n",
    "    print(sigma_j_sq)\n",
    "print(compute_sigma_j_sq(X, eta, sigma_sq, j=1))"
   ]
  },
  {
   "cell_type": "code",
   "execution_count": 17,
   "metadata": {},
   "outputs": [
    {
     "name": "stdout",
     "output_type": "stream",
     "text": [
      "6.710484155432876e-220\n"
     ]
    }
   ],
   "source": [
    "eta_j=3\n",
    "# Fonction pour évaluer la fonction de densité de la distribution conditionnelle de chaque composante de 𝜼_t\n",
    "def cond_density_eta(eta_j, beta, sigma_sq, mu, X, y):\n",
    "    # Calculer la matrice de covariance Sigma\n",
    "    Sigma = np.linalg.inv(np.dot(X.T, X) + mu * np.eye(X.shape[1]))\n",
    "    # Calculer le vecteur de moyenne m\n",
    "    m = np.dot(Sigma, np.dot(X.T, y))\n",
    "    # Calculer la valeur de la fonction de densité de la distribution conditionnelle de eta_j\n",
    "    density = np.exp(-mu * eta_j**2 / (2 * sigma_sq)) * np.exp(-np.dot(beta - m, np.dot(Sigma, beta - m)) / (2 * sigma_sq))\n",
    "    return density\n",
    "print(cond_density_eta(eta_j, beta_init, sigma_sq, mu, X, y))"
   ]
  },
  {
   "cell_type": "code",
   "execution_count": 21,
   "metadata": {},
   "outputs": [
    {
     "name": "stdout",
     "output_type": "stream",
     "text": [
      "[[ 1.56768076 -1.17246313 -0.23466264  0.72652356]\n",
      " [ 2.35962842 -1.41748399 -0.84438502  0.09259521]\n",
      " [ 2.46468592 -0.95813825 -1.31062134  0.38999772]\n",
      " [ 2.10197701 -1.05341153 -0.81700003  0.84513444]\n",
      " [ 1.85541911 -0.63841902  0.01716452  0.29589963]\n",
      " [ 1.56839986 -0.30700905  0.7059368  -0.51843532]\n",
      " [ 1.70016031  0.40982228  0.66233422 -0.84838109]\n",
      " [ 1.90617856  0.8241235   1.54484269 -0.24617461]\n",
      " [ 1.58301639  0.34162918  0.79453618 -0.23739597]\n",
      " [ 1.66269786 -0.45962532  0.73396308  0.25615156]]\n"
     ]
    }
   ],
   "source": [
    "# Fonction pour implémenter le slice sampling pour chaque composante de 𝜼_t\n",
    "def slice_sampling_eta(beta, sigma_sq, mu, X, y, n_samples):\n",
    "    # Initialiser la matrice des échantillons de 𝜼_t\n",
    "    eta_samples = np.zeros((n_samples, X.shape[1]))\n",
    "    # Initialiser la valeur initiale de 𝜼_t\n",
    "    eta = np.random.normal(0, 1, X.shape[1])\n",
    "    # Itération du slice sampling pour chaque composante de 𝜼_t\n",
    "    for j in range(X.shape[1]):\n",
    "        # Itération du slice sampling pour chaque échantillon de 𝜼_t,j\n",
    "        for i in range(n_samples):\n",
    "            # Évaluer la fonction de densité de la distribution conditionnelle de eta_j à la valeur actuelle de eta_j\n",
    "            density = cond_density_eta(eta[j], beta, sigma_sq, mu, X, y)\n",
    "            # Générer une valeur aléatoire uniforme entre 0 et la valeur de la fonction de densité\n",
    "            u = np.random.uniform(0, density)\n",
    "            # Trouver l'intervalle horizontal qui contient u dans le graphique de la fonction de densité\n",
    "            # Utiliser la recherche par dichotomie pour trouver l'intervalle\n",
    "            lower_bound = eta[j] - 1\n",
    "            upper_bound = eta[j] + 1\n",
    "            while True:\n",
    "                if cond_density_eta(lower_bound, beta, sigma_sq, mu, X, y) < u:\n",
    "                    lower_bound = (lower_bound + eta[j]) / 2\n",
    "                elif cond_density_eta(upper_bound, beta, sigma_sq, mu, X, y) < u:\n",
    "                    upper_bound = (upper_bound + eta[j]) / 2\n",
    "                else:\n",
    "                    break\n",
    "            # Générer une valeur aléatoire uniforme dans l'intervalle horizontal\n",
    "            eta_new = np.random.uniform(lower_bound, upper_bound)\n",
    "            # Accepter la nouvelle valeur avec probabilité 1\n",
    "            eta[j] = eta_new\n",
    "            # Enregistrer la valeur actuelle de eta_j dans la matrice des échantillons\n",
    "            eta_samples[i, j] = eta[j]\n",
    "    return eta_samples\n",
    "\n",
    "print(slice_sampling_eta(beta_init, sigma_sq, mu, X, y, n_samples=10))"
   ]
  },
  {
   "cell_type": "code",
   "execution_count": 22,
   "metadata": {},
   "outputs": [
    {
     "name": "stdout",
     "output_type": "stream",
     "text": [
      "0.2238588189315538\n"
     ]
    }
   ],
   "source": [
    "# Définir la fonction de proposition\n",
    "def prop_log_zeta(log_zeta_actuel, sigma_prop):\n",
    "    return np.random.normal(log_zeta_actuel, sigma_prop)\n",
    "\n",
    "print(prop_log_zeta(log_zeta_actuel=2, sigma_prop=1))"
   ]
  },
  {
   "cell_type": "code",
   "execution_count": 37,
   "metadata": {},
   "outputs": [
    {
     "ename": "ValueError",
     "evalue": "Input must be 1- or 2-d.",
     "output_type": "error",
     "traceback": [
      "\u001b[0;31m---------------------------------------------------------------------------\u001b[0m",
      "\u001b[0;31mValueError\u001b[0m                                Traceback (most recent call last)",
      "\u001b[1;32m/home/onyxia/work/Monte-Carlo-3/test.ipynb Cell 7\u001b[0m line \u001b[0;36m2\n\u001b[1;32m     <a href='vscode-notebook-cell://user-garancelat-703356-0.user.lab.sspcloud.fr/home/onyxia/work/Monte-Carlo-3/test.ipynb#W6sdnNjb2RlLXJlbW90ZQ%3D%3D?line=23'>24</a>\u001b[0m     \u001b[39mreturn\u001b[39;00m zeta_chain\n\u001b[1;32m     <a href='vscode-notebook-cell://user-garancelat-703356-0.user.lab.sspcloud.fr/home/onyxia/work/Monte-Carlo-3/test.ipynb#W6sdnNjb2RlLXJlbW90ZQ%3D%3D?line=24'>25</a>\u001b[0m     \u001b[39mprint\u001b[39m(zeta_chain)\n\u001b[0;32m---> <a href='vscode-notebook-cell://user-garancelat-703356-0.user.lab.sspcloud.fr/home/onyxia/work/Monte-Carlo-3/test.ipynb#W6sdnNjb2RlLXJlbW90ZQ%3D%3D?line=26'>27</a>\u001b[0m \u001b[39mprint\u001b[39m(metropolis_hastings_zeta(y, X, omega\u001b[39m=\u001b[39;49m\u001b[39m2\u001b[39;49m, zeta_actuel\u001b[39m=\u001b[39;49m\u001b[39m1\u001b[39;49m, sigma_prop\u001b[39m=\u001b[39;49m\u001b[39m1\u001b[39;49m, a_prior\u001b[39m=\u001b[39;49m\u001b[39m1\u001b[39;49m, b_prior\u001b[39m=\u001b[39;49m\u001b[39m1\u001b[39;49m, n_iter\u001b[39m=\u001b[39;49m\u001b[39m10\u001b[39;49m))\n",
      "\u001b[1;32m/home/onyxia/work/Monte-Carlo-3/test.ipynb Cell 7\u001b[0m line \u001b[0;36m1\n\u001b[1;32m      <a href='vscode-notebook-cell://user-garancelat-703356-0.user.lab.sspcloud.fr/home/onyxia/work/Monte-Carlo-3/test.ipynb#W6sdnNjb2RlLXJlbW90ZQ%3D%3D?line=8'>9</a>\u001b[0m zeta_prop \u001b[39m=\u001b[39m prop_log_zeta(np\u001b[39m.\u001b[39mlog(zeta_actuel), sigma_prop)\n\u001b[1;32m     <a href='vscode-notebook-cell://user-garancelat-703356-0.user.lab.sspcloud.fr/home/onyxia/work/Monte-Carlo-3/test.ipynb#W6sdnNjb2RlLXJlbW90ZQ%3D%3D?line=9'>10</a>\u001b[0m \u001b[39m# Calculer la vraisemblance marginale de y donné omega et la nouvelle valeur proposée de zeta\u001b[39;00m\n\u001b[0;32m---> <a href='vscode-notebook-cell://user-garancelat-703356-0.user.lab.sspcloud.fr/home/onyxia/work/Monte-Carlo-3/test.ipynb#W6sdnNjb2RlLXJlbW90ZQ%3D%3D?line=10'>11</a>\u001b[0m M \u001b[39m=\u001b[39m np\u001b[39m.\u001b[39meye(\u001b[39mlen\u001b[39m(y)) \u001b[39m+\u001b[39m \u001b[39m1\u001b[39m\u001b[39m/\u001b[39mzeta_prop \u001b[39m*\u001b[39m X \u001b[39m@\u001b[39m np\u001b[39m.\u001b[39;49mdiag(np\u001b[39m.\u001b[39;49marray(\u001b[39m1\u001b[39;49m\u001b[39m/\u001b[39;49momega)) \u001b[39m@\u001b[39m X\u001b[39m.\u001b[39mT\n\u001b[1;32m     <a href='vscode-notebook-cell://user-garancelat-703356-0.user.lab.sspcloud.fr/home/onyxia/work/Monte-Carlo-3/test.ipynb#W6sdnNjb2RlLXJlbW90ZQ%3D%3D?line=11'>12</a>\u001b[0m L_prop \u001b[39m=\u001b[39m np\u001b[39m.\u001b[39mlinalg\u001b[39m.\u001b[39mdet(M)\u001b[39m*\u001b[39m\u001b[39m*\u001b[39m(\u001b[39m-\u001b[39m\u001b[39mlen\u001b[39m(y)\u001b[39m/\u001b[39m\u001b[39m2\u001b[39m) \u001b[39m*\u001b[39m np\u001b[39m.\u001b[39mexp(\u001b[39m-\u001b[39m\u001b[39m1\u001b[39m\u001b[39m/\u001b[39m\u001b[39m2\u001b[39m \u001b[39m*\u001b[39m y\u001b[39m.\u001b[39mT \u001b[39m@\u001b[39m np\u001b[39m.\u001b[39mlinalg\u001b[39m.\u001b[39minv(M) \u001b[39m@\u001b[39m y)\n\u001b[1;32m     <a href='vscode-notebook-cell://user-garancelat-703356-0.user.lab.sspcloud.fr/home/onyxia/work/Monte-Carlo-3/test.ipynb#W6sdnNjb2RlLXJlbW90ZQ%3D%3D?line=12'>13</a>\u001b[0m \u001b[39m# Calculer la vraisemblance marginale de y donné omega et la valeur actuelle de zeta\u001b[39;00m\n",
      "File \u001b[0;32m/opt/mamba/lib/python3.11/site-packages/numpy/lib/twodim_base.py:303\u001b[0m, in \u001b[0;36mdiag\u001b[0;34m(v, k)\u001b[0m\n\u001b[1;32m    301\u001b[0m     \u001b[39mreturn\u001b[39;00m diagonal(v, k)\n\u001b[1;32m    302\u001b[0m \u001b[39melse\u001b[39;00m:\n\u001b[0;32m--> 303\u001b[0m     \u001b[39mraise\u001b[39;00m \u001b[39mValueError\u001b[39;00m(\u001b[39m\"\u001b[39m\u001b[39mInput must be 1- or 2-d.\u001b[39m\u001b[39m\"\u001b[39m)\n",
      "\u001b[0;31mValueError\u001b[0m: Input must be 1- or 2-d."
     ]
    }
   ],
   "source": [
    "# Définir la fonction pour mettre à jour zeta\n",
    "def metropolis_hastings_zeta(y, X, omega, zeta_actuel, sigma_prop, a_prior, b_prior, n_iter):\n",
    "    # Initialiser la chaîne de Markov pour zeta\n",
    "    zeta_chain = np.zeros(n_iter)\n",
    "    zeta_chain[0] = zeta_actuel\n",
    "    # Boucle pour les itérations du Gibbs sampling\n",
    "    for i in range(1, n_iter):\n",
    "        # Générer une nouvelle valeur proposée pour log(zeta)\n",
    "        zeta_prop = prop_log_zeta(np.log(zeta_actuel), sigma_prop)\n",
    "        # Calculer la vraisemblance marginale de y donné omega et la nouvelle valeur proposée de zeta\n",
    "        M = np.eye(len(y)) + 1/zeta_prop * X @ np.diag(np.array(1/omega)) @ X.T\n",
    "        L_prop = np.linalg.det(M)**(-len(y)/2) * np.exp(-1/2 * y.T @ np.linalg.inv(M) @ y)\n",
    "        # Calculer la vraisemblance marginale de y donné omega et la valeur actuelle de zeta\n",
    "        M_actuel = np.eye(len(y)) + 1/zeta_actuel * X @ np.diag(1/omega) @ X.T\n",
    "        L_actuel = np.linalg.det(M_actuel)**(-len(y)/2) * np.exp(-1/2 * y.T @ np.linalg.inv(M_actuel) @ y)\n",
    "        # Calculer le rapport d'acceptation\n",
    "        alpha = min(1, L_prop * np.exp(-a_prior * log_zeta_prop - b_prior * np.exp(-log_zeta_prop)) / L_actuel * np.exp(-a_prior * np.log(zeta_actuel) - b_prior * zeta_actuel))\n",
    "        # Accepter ou rejeter la nouvelle valeur proposée\n",
    "        if np.random.rand() < alpha:\n",
    "            zeta_actuel = np.exp(log_zeta_prop)\n",
    "        # Enregistrer la valeur actuelle de zeta dans la chaîne de Markov\n",
    "        zeta_chain[i] = zeta_actuel\n",
    "    # Retourner la chaîne de Markov pour zeta\n",
    "    return zeta_chain\n",
    "    print(zeta_chain)\n",
    "\n",
    "print(metropolis_hastings_zeta(y, X, omega=2, zeta_actuel=1, sigma_prop=1, a_prior=1, b_prior=1, n_iter=10))"
   ]
  }
 ],
 "metadata": {
  "kernelspec": {
   "display_name": "base",
   "language": "python",
   "name": "python3"
  },
  "language_info": {
   "codemirror_mode": {
    "name": "ipython",
    "version": 3
   },
   "file_extension": ".py",
   "mimetype": "text/x-python",
   "name": "python",
   "nbconvert_exporter": "python",
   "pygments_lexer": "ipython3",
   "version": "3.11.6"
  }
 },
 "nbformat": 4,
 "nbformat_minor": 2
}
